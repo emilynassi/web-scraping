{
 "cells": [
  {
   "cell_type": "code",
   "execution_count": 150,
   "metadata": {
    "collapsed": true
   },
   "outputs": [],
   "source": [
    "#Dependencies\n",
    "from splinter import Browser\n",
    "from bs4 import BeautifulSoup\n",
    "import pandas as pd\n",
    "import requests\n",
    "import time\n"
   ]
  },
  {
   "cell_type": "code",
   "execution_count": 151,
   "metadata": {
    "collapsed": true
   },
   "outputs": [],
   "source": [
    "#Set up splinter\n",
    "#executable_path = {'executable_path': '/usr/local/bin/chromedriver'}\n",
    "browser = Browser('chrome', headless = False)"
   ]
  },
  {
   "cell_type": "markdown",
   "metadata": {},
   "source": [
    "# Mars News"
   ]
  },
  {
   "cell_type": "code",
   "execution_count": 41,
   "metadata": {
    "collapsed": true
   },
   "outputs": [],
   "source": [
    "url = \"https://mars.nasa.gov/news/\"\n",
    "browser.visit(url)\n",
    "\n",
    "html = browser.html\n",
    "soup = BeautifulSoup(html, \"html.parser\")\n",
    "\n",
    "news_title = soup.find('div', class_=\"content_title\").text\n",
    "news_p = soup.find('div', class_=\"rollover_description_inner\").text"
   ]
  },
  {
   "cell_type": "markdown",
   "metadata": {},
   "source": [
    "# Featured Image"
   ]
  },
  {
   "cell_type": "code",
   "execution_count": 35,
   "metadata": {
    "collapsed": true
   },
   "outputs": [],
   "source": [
    "#get url\n",
    "browser = Browser('chrome', headless = False)\n",
    "\n",
    "jpl = \"https://www.jpl.nasa.gov/spaceimages/?search=&category=Mars\"\n",
    "browser.visit(jpl)\n",
    "time.sleep(5)\n",
    "\n",
    "# find button and click it to search\n",
    "browser.click_link_by_partial_text('FULL IMAGE')\n",
    "\n",
    "time.sleep(5)\n",
    "\n",
    "browser.click_link_by_partial_text('more info')\n",
    "\n",
    "img_html = browser.html\n",
    "# create a soup object from the html\n",
    "soup = BeautifulSoup(img_html, \"html.parser\")\n",
    "img_path = soup.find('figure', class_='lede').find('img')['src']\n",
    "featured_image_url = \"https://www.jpl.nasa.gov/\" + img_path"
   ]
  },
  {
   "cell_type": "markdown",
   "metadata": {},
   "source": [
    "# Mars Weather"
   ]
  },
  {
   "cell_type": "code",
   "execution_count": 44,
   "metadata": {
    "collapsed": true
   },
   "outputs": [],
   "source": [
    "#Grab latest weather tweet from Twitter\n",
    "weather = \"https://twitter.com/marswxreport?lang=en\"\n",
    "browser.visit(weather)\n",
    "\n",
    "weather_html = browser.html\n",
    "soup = BeautifulSoup(weather_html, \"html.parser\")\n",
    "mars_weather = soup.find('div', class_=\"js-tweet-text-container\").text.strip()\n"
   ]
  },
  {
   "cell_type": "markdown",
   "metadata": {},
   "source": [
    "# Mars Facts"
   ]
  },
  {
   "cell_type": "code",
   "execution_count": 59,
   "metadata": {
    "collapsed": true
   },
   "outputs": [],
   "source": [
    "#Use pandas to read table and convert to html \n",
    "mars_facts_url = 'https://space-facts.com/mars/'\n",
    "tables_df = pd.read_html(mars_facts_url)[0]\n",
    "tables_df.columns = [\"Description\", \"Value\"]\n",
    "html_table = tables_df.to_html(header = False, index = False)"
   ]
  },
  {
   "cell_type": "markdown",
   "metadata": {},
   "source": [
    "# Mars Hemispheres"
   ]
  },
  {
   "cell_type": "code",
   "execution_count": 174,
   "metadata": {},
   "outputs": [],
   "source": [
    "#Visit website using Splinter\n",
    "usgs_url = \"https://astrogeology.usgs.gov/search/results?q=hemisphere+enhanced&k1=target&v1=Mars\"\n",
    "browser.visit(usgs_url)\n",
    "\n",
    "usgs_html = browser.html\n",
    "soup = BeautifulSoup(usgs_html, \"html.parser\")\n",
    "\n",
    "#Create empty list to hold urls\n",
    "hemisphere_urls = []\n",
    "\n",
    "#Find links on page\n",
    "hemispheres = soup.find('div', class_=\"collapsible results\").find_all('a')\n",
    "\n",
    "#Loop through visit all pages and capture full resolution url\n",
    "\n",
    "for hemisphere in hemispheres:\n",
    "    try:\n",
    "        img_title = hemisphere.h3.text\n",
    "        full_image = \"https://astrogeology.usgs.gov\" + a['href']\n",
    "        \n",
    "    except:\n",
    "\n",
    "        browser.visit(full_image)\n",
    "        time.sleep(5)\n",
    "    \n",
    "        #Get links for hi-res images\n",
    "        image_page = browser.html\n",
    "        soup_object = BeautifulSoup(image_page, 'html.parser')\n",
    "        img_url = soup_object.find('div', class_='downloads').find('li').a['href']\n",
    "    \n",
    "        # create image dictionary for each image and title\n",
    "        hemisphere_dict = {}\n",
    "        hemisphere_dict['title'] = img_title\n",
    "        hemisphere_dict['img_url'] = img_url\n",
    "    \n",
    "        hemisphere_urls.append(hemisphere_dict)\n",
    "\n",
    "        browser.visit(usgs_url)"
   ]
  },
  {
   "cell_type": "code",
   "execution_count": 175,
   "metadata": {},
   "outputs": [
    {
     "data": {
      "text/plain": [
       "[{'img_url': 'http://astropedia.astrogeology.usgs.gov/download/Mars/Viking/valles_marineris_enhanced.tif/full.jpg',\n",
       "  'title': 'Valles Marineris Hemisphere Enhanced'},\n",
       " {'img_url': 'http://astropedia.astrogeology.usgs.gov/download/Mars/Viking/valles_marineris_enhanced.tif/full.jpg',\n",
       "  'title': 'Cerberus Hemisphere Enhanced'},\n",
       " {'img_url': 'http://astropedia.astrogeology.usgs.gov/download/Mars/Viking/valles_marineris_enhanced.tif/full.jpg',\n",
       "  'title': 'Schiaparelli Hemisphere Enhanced'},\n",
       " {'img_url': 'http://astropedia.astrogeology.usgs.gov/download/Mars/Viking/valles_marineris_enhanced.tif/full.jpg',\n",
       "  'title': 'Syrtis Major Hemisphere Enhanced'}]"
      ]
     },
     "execution_count": 175,
     "metadata": {},
     "output_type": "execute_result"
    }
   ],
   "source": [
    "hemisphere_urls"
   ]
  },
  {
   "cell_type": "code",
   "execution_count": null,
   "metadata": {
    "collapsed": true
   },
   "outputs": [],
   "source": []
  }
 ],
 "metadata": {
  "kernelspec": {
   "display_name": "Python 3",
   "language": "python",
   "name": "python3"
  },
  "language_info": {
   "codemirror_mode": {
    "name": "ipython",
    "version": 3
   },
   "file_extension": ".py",
   "mimetype": "text/x-python",
   "name": "python",
   "nbconvert_exporter": "python",
   "pygments_lexer": "ipython3",
   "version": "3.6.3"
  }
 },
 "nbformat": 4,
 "nbformat_minor": 2
}
